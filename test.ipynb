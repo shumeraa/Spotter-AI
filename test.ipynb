{
 "cells": [
  {
   "cell_type": "code",
   "execution_count": 2,
   "metadata": {},
   "outputs": [],
   "source": [
    "from ultralytics import YOLO   \n",
    "\n",
    "# load a pretrained YOLOv8m model\n",
    "model = YOLO('yolov8m-pose.pt')"
   ]
  },
  {
   "cell_type": "code",
   "execution_count": null,
   "metadata": {},
   "outputs": [],
   "source": [
    "import torch\n",
    "torch.cuda.is_available()\n",
    "torch.cuda.current_device()\n",
    "torch.cuda.device(0)\n",
    "torch.cuda.get_device_name(0)"
   ]
  },
  {
   "cell_type": "code",
   "execution_count": null,
   "metadata": {},
   "outputs": [],
   "source": [
    "labels = [\"nose\", \"left_eye\", \"right_eye\", \"left_ear\", \"right_ear\", \"left_shoulder\",\n",
    "          \"right_shoulder\", \"left_elbow\", \"right_elbow\", \"left_wrist\", \"right_wrist\",\n",
    "          \"left_hip\", \"right_hip\", \"left_knee\", \"right_knee\", \"left_ankle\", \"right_ankle\"]\n",
    "labels = {\"nose\": 0, \"left_eye\": 1, \"right_eye\": 2, \"left_ear\": 3, \"right_ear\": 4, \n",
    "          \"left_shoulder\": 5, \"right_shoulder\": 6, \"left_elbow\": 7, \"right_elbow\": 8, \n",
    "          \"left_wrist\": 9, \"right_wrist\": 10, \"left_hip\": 11, \"right_hip\": 12, \"left_knee\": 13, \n",
    "          \"right_knee\": 14, \"left_ankle\": 15, \"right_ankle\": 16} "
   ]
  }
 ],
 "metadata": {
  "kernelspec": {
   "display_name": ".venv",
   "language": "python",
   "name": "python3"
  },
  "language_info": {
   "codemirror_mode": {
    "name": "ipython",
    "version": 3
   },
   "file_extension": ".py",
   "mimetype": "text/x-python",
   "name": "python",
   "nbconvert_exporter": "python",
   "pygments_lexer": "ipython3",
   "version": "3.10.11"
  }
 },
 "nbformat": 4,
 "nbformat_minor": 2
}
